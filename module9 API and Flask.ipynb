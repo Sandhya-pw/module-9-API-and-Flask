{
  "nbformat": 4,
  "nbformat_minor": 0,
  "metadata": {
    "colab": {
      "provenance": []
    },
    "kernelspec": {
      "name": "python3",
      "display_name": "Python 3"
    },
    "language_info": {
      "name": "python"
    }
  },
  "cells": [
    {
      "cell_type": "markdown",
      "source": [
        "Theoretical"
      ],
      "metadata": {
        "id": "IFJFtgwP-Gnz"
      }
    },
    {
      "cell_type": "code",
      "source": [
        "#1.What is a RESTful API\n",
        "\n",
        "#ans.>>A RESTful API (Representational State Transfer API) is a web service that follows REST architectural principles to allow communication between\n",
        "#      client and server using standard HTTP methods (GET, POST, PUT, DELETE).\n",
        "#      It's stateless, resource-based, and typically uses JSON for data exchange."
      ],
      "metadata": {
        "id": "5N4k_UNe-IBe"
      },
      "execution_count": null,
      "outputs": []
    },
    {
      "cell_type": "code",
      "source": [
        "#2.Explain the concept of API specification\n",
        "\n",
        "#ans.>>An API specification defines how an API behaves — its endpoints, request/response formats, authentication, status codes, etc.\n",
        "#     It helps developers understand how to interact with the API"
      ],
      "metadata": {
        "id": "4X_L6dW6-LZ6"
      },
      "execution_count": null,
      "outputs": []
    },
    {
      "cell_type": "code",
      "source": [
        "#3.What is Flask, and why is it popular for building APIs\n",
        "\n",
        "#ans.>>Flask is a lightweight Python web framework. It’s popular for APIs because:\n",
        "#        1.It's simple and minimal.\n",
        "#        2.Easy to learn and use.\n",
        "#        3.Supports extensions like Flask-RESTful, Flask-SQLAlchemy, etc.\n",
        "#        4.Gives full control over request handling and routing."
      ],
      "metadata": {
        "id": "L8LC3ng9-NjR"
      },
      "execution_count": null,
      "outputs": []
    },
    {
      "cell_type": "code",
      "source": [
        "#4.What is routing in Flask\n",
        "\n",
        "#ans.>>Routing is the mechanism of mapping URLs to Python functions."
      ],
      "metadata": {
        "id": "CC22ASSX-RLT"
      },
      "execution_count": null,
      "outputs": []
    },
    {
      "cell_type": "code",
      "source": [
        "#5.How do you create a simple Flask application\n",
        "\n",
        "#ans.>>To create a simple Flask app, you import Flask, create an app object, define a route using @app.route(), and return a response.\n",
        "#     Then, you run the app using app.run()."
      ],
      "metadata": {
        "id": "XrDsbwkD-biZ"
      },
      "execution_count": null,
      "outputs": []
    },
    {
      "cell_type": "code",
      "source": [
        "#6.What are HTTP methods used in RESTful APIs\n",
        "\n",
        "#ans.>> these are the HTTP method which is used in Restful APIs :-\n",
        "#         1.GET: Retrieve data.\n",
        "#         2.POST: Submit new data.\n",
        "#         3.PUT: Update existing data.\n",
        "#         4.DELETE: Remove data.\n",
        "#         5.PATCH: Partially update data."
      ],
      "metadata": {
        "id": "SGLXWoWu-eIY"
      },
      "execution_count": null,
      "outputs": []
    },
    {
      "cell_type": "code",
      "source": [
        "#7.What is the purpose of the @app.route() decorator in Flask\n",
        "\n",
        "#ans.>> It maps a URL endpoint to a function. When the specified URL is visited, the corresponding function runs."
      ],
      "metadata": {
        "id": "TWhNnwUO-g32"
      },
      "execution_count": null,
      "outputs": []
    },
    {
      "cell_type": "code",
      "source": [
        "#8.What is the difference between GET and POST HTTP methods\n",
        "\n",
        "#ans.>>GET is used to request data from the server and shows data in the URL.\n",
        "#      POST is used to send data to the server and hides data in the request body."
      ],
      "metadata": {
        "id": "64avHTwZ-h90"
      },
      "execution_count": null,
      "outputs": []
    },
    {
      "cell_type": "code",
      "source": [
        "#9.How do you handle errors in Flask APIs\n",
        "\n",
        "#ans.>>Use @app.errorhandler or return custom JSON"
      ],
      "metadata": {
        "id": "23YiAZ_x-h7x"
      },
      "execution_count": null,
      "outputs": []
    },
    {
      "cell_type": "code",
      "source": [
        "#10.How do you connect Flask to a SQL database\n",
        "\n",
        "#ans.>>To connect Flask to a SQL database, you use an extension like Flask-SQLAlchemy.\n",
        "#      It lets you define the database URL in your app settings and interact with the database using Python code instead of writing SQL manually."
      ],
      "metadata": {
        "id": "SFSo_OhW-h5M"
      },
      "execution_count": null,
      "outputs": []
    },
    {
      "cell_type": "code",
      "source": [
        "#11.What is the role of Flask-SQLAlchemy\n",
        "\n",
        "#ans.>> It's an ORM (Object-Relational Mapper) extension that simplifies interaction with databases by using Python classes to represent tables."
      ],
      "metadata": {
        "id": "hxm0gPpQ-h3-"
      },
      "execution_count": null,
      "outputs": []
    },
    {
      "cell_type": "code",
      "source": [
        "#12.What are Flask blueprints, and how are they useful\n",
        "\n",
        "#ans.>>Blueprints help modularize large applications into smaller components"
      ],
      "metadata": {
        "id": "sYAm0vTO-gzN"
      },
      "execution_count": null,
      "outputs": []
    },
    {
      "cell_type": "code",
      "source": [
        "#13.What is the purpose of Flask's request object\n",
        "\n",
        "#ans.>>It allows you to access data sent by the client"
      ],
      "metadata": {
        "id": "0DCQNoXT-uOE"
      },
      "execution_count": null,
      "outputs": []
    },
    {
      "cell_type": "code",
      "source": [
        "#14.How do you create a RESTful API endpoint using Flask\n",
        "\n",
        "#ans.>>In Flask, a RESTful API endpoint is created by defining a route using @app.route() and writing a function to handle requests.\n",
        "#      The route represents a URL, and the function returns a response like data in JSON format.\n",
        "#      You can specify which HTTP methods (GET, POST, etc.) the endpoint should accept."
      ],
      "metadata": {
        "id": "fZVG-R_i-uSB"
      },
      "execution_count": null,
      "outputs": []
    },
    {
      "cell_type": "code",
      "source": [
        "#15.What is the purpose of Flask's jsonify() function\n",
        "\n",
        "#ans.>>It converts Python dictionaries or lists into JSON responses with proper headers"
      ],
      "metadata": {
        "id": "bx6nuE3O-uXK"
      },
      "execution_count": null,
      "outputs": []
    },
    {
      "cell_type": "code",
      "source": [
        "#16.Explain Flask’s url_for() function\n",
        "\n",
        "#ans.>>Generates a URL from the function name. Helps avoid hardcoding URLs"
      ],
      "metadata": {
        "id": "5lR48y6L-09y"
      },
      "execution_count": null,
      "outputs": []
    },
    {
      "cell_type": "code",
      "source": [
        "#17.How does Flask handle static files (CSS, JavaScript, etc.)\n",
        "\n",
        "#ans.>>Flask serves static files from the /static folder by default"
      ],
      "metadata": {
        "id": "qyGeaTym-05q"
      },
      "execution_count": null,
      "outputs": []
    },
    {
      "cell_type": "code",
      "source": [
        "#18.What is an API specification, and how does it help in building a Flask API\n",
        "\n",
        "#ans.>>As above, it ensures consistent development and communication by defining:\n",
        "#        1.Endpoints\n",
        "#        2.Request/response structure\n",
        "#        3.Error messages\n",
        "#        4.Authentication methods"
      ],
      "metadata": {
        "id": "a6kqPGSB-04f"
      },
      "execution_count": null,
      "outputs": []
    },
    {
      "cell_type": "code",
      "source": [
        "#19.What are HTTP status codes, and why are they important in a Flask API\n",
        "\n",
        "#ans.>>They indicate the result of an HTTP request:\n",
        "#        1.200 OK: Success\n",
        "#        2.201 Created: New resource added\n",
        "#        3.400 Bad Request: Client error\n",
        "#        4.404 Not Found\n",
        "#        5.500 Internal Server Error"
      ],
      "metadata": {
        "id": "OGcnor5O-01n"
      },
      "execution_count": null,
      "outputs": []
    },
    {
      "cell_type": "code",
      "source": [
        "#20.How do you handle POST requests in Flask\n",
        "\n",
        "#ans.>>In Flask, POST requests are used to send data from the client to the server.\n",
        "#      To handle a POST request, you create a route with methods=['POST'] and use the request object to access the data sent.\n",
        "#      POST is commonly used to submit forms or add new data."
      ],
      "metadata": {
        "id": "_04aKwmi-00O"
      },
      "execution_count": null,
      "outputs": []
    },
    {
      "cell_type": "code",
      "source": [
        "#21.How would you secure a Flask API\n",
        "\n",
        "#ans.>>Use HTTPS.\n",
        "#      1.Validate and sanitize inputs.\n",
        "#      2.Use API keys or JWT tokens.\n",
        "#      3.Implement rate limiting.\n",
        "#      4.Use CORS settings to restrict access."
      ],
      "metadata": {
        "id": "PRMjSs6p_AwA"
      },
      "execution_count": null,
      "outputs": []
    },
    {
      "cell_type": "code",
      "source": [
        "#22.What is the significance of the Flask-RESTful extension\n",
        "\n",
        "#ans.>>It simplifies the creation of RESTful APIs by using:\n",
        "#      1.Class-based views\n",
        "#      2.Automatic HTTP method routing\n",
        "#      3.Built-in request parsing"
      ],
      "metadata": {
        "id": "L0aL_pji_FRw"
      },
      "execution_count": null,
      "outputs": []
    },
    {
      "cell_type": "code",
      "source": [
        "#23.What is the role of Flask’s session object?\n",
        "\n",
        "#ans.>>It allows server-side storage of user-specific data across requests using secure cookies"
      ],
      "metadata": {
        "id": "M5qMDSuz_Hdo"
      },
      "execution_count": null,
      "outputs": []
    },
    {
      "cell_type": "markdown",
      "source": [
        "Practical"
      ],
      "metadata": {
        "id": "09cyKtGhAZSK"
      }
    },
    {
      "cell_type": "code",
      "source": [
        "#1.How do you create a basic Flask application\n",
        "from flask import Flask\n",
        "import warnings\n",
        "warnings.filterwarnings(\"ignore\")\n",
        "app = Flask(__name__)\n",
        "\n",
        "@app.route('/')\n",
        "def home():\n",
        "    return \"Hello, Flask!\"\n",
        "\n",
        "if __name__ == '__main__':\n",
        "    app.run(debug=True)"
      ],
      "metadata": {
        "colab": {
          "base_uri": "https://localhost:8080/"
        },
        "id": "6SQLThGfAYyi",
        "outputId": "1286ba19-2b4e-4888-c6a8-0b8a8200d0eb"
      },
      "execution_count": null,
      "outputs": [
        {
          "metadata": {
            "tags": null
          },
          "name": "stdout",
          "output_type": "stream",
          "text": [
            " * Serving Flask app '__main__'\n",
            " * Debug mode: on\n"
          ]
        },
        {
          "metadata": {
            "tags": null
          },
          "name": "stderr",
          "output_type": "stream",
          "text": [
            "INFO:werkzeug:\u001b[31m\u001b[1mWARNING: This is a development server. Do not use it in a production deployment. Use a production WSGI server instead.\u001b[0m\n",
            " * Running on http://127.0.0.1:5000\n",
            "INFO:werkzeug:\u001b[33mPress CTRL+C to quit\u001b[0m\n",
            "INFO:werkzeug: * Restarting with stat\n"
          ]
        }
      ]
    },
    {
      "cell_type": "code",
      "source": [
        "#2.How do you serve static files like images or CSS in Flask\n",
        "    #Place them in a folder called static/\n",
        "    #Access with: url_for('static', filename='style.css')\n",
        "<link rel=\"stylesheet\" href=\"{{ url_for('static', filename='style.css') }}\">\n",
        "<img src=\"{{ url_for('static', filename='logo.png') }}\" />"
      ],
      "metadata": {
        "id": "hokphpeBAakT"
      },
      "execution_count": null,
      "outputs": []
    },
    {
      "cell_type": "code",
      "source": [
        "#3.How do you define different routes with different HTTP methods in Flask\n",
        "from flask import Flask, request\n",
        "@app.route('/submit', methods=['GET', 'POST'])\n",
        "def submit():\n",
        "    if request.method == 'POST':\n",
        "        return \"Form Submitted\"\n",
        "    return \"Form Page\""
      ],
      "metadata": {
        "id": "qwmuoWagAah1"
      },
      "execution_count": null,
      "outputs": []
    },
    {
      "cell_type": "code",
      "source": [
        "#4.How do you render HTML templates in Flask\n",
        "from flask import render_template\n",
        "\n",
        "@app.route('/')\n",
        "def index():\n",
        "    return render_template('index.html')"
      ],
      "metadata": {
        "id": "QLrHpM5fAafK"
      },
      "execution_count": null,
      "outputs": []
    },
    {
      "cell_type": "code",
      "source": [
        "#5.How can you generate URLs for routes in Flask using url_for\n",
        "from flask import Flask, redirect, url_for\n",
        "@app.route('/about')\n",
        "def about():\n",
        "    return \"About Page\"\n",
        "\n",
        "@app.route('/')\n",
        "def home():\n",
        "    return redirect(url_for('about'))"
      ],
      "metadata": {
        "id": "vPBmDWlMAac-"
      },
      "execution_count": null,
      "outputs": []
    },
    {
      "cell_type": "code",
      "source": [
        "#6.How do you handle forms in Flask\n",
        "from flask import request\n",
        "\n",
        "@app.route('/login', methods=['GET', 'POST'])\n",
        "def login():\n",
        "    if request.method == 'POST':\n",
        "        username = request.form['username']\n",
        "        return f\"Welcome, {username}\"\n",
        "    return render_template('login.html')"
      ],
      "metadata": {
        "id": "jvc72eBcAabs"
      },
      "execution_count": null,
      "outputs": []
    },
    {
      "cell_type": "code",
      "source": [
        "|#7.How can you validate form data in Flask\n",
        "from flask import Flask, request\n",
        "\n",
        "app = Flask(__name__)\n",
        "\n",
        "@app.route('/', methods=['GET', 'POST'])\n",
        "def home():\n",
        "    if request.method == 'POST':\n",
        "        name = request.form.get('name')\n",
        "        if not name:\n",
        "            return '''\n",
        "                <p style=\"color:red;\">Name is required!</p>\n",
        "                <form method=\"post\">\n",
        "                    <input type=\"text\" name=\"name\" placeholder=\"Enter your name\">\n",
        "                    <input type=\"submit\" value=\"Submit\">\n",
        "                </form>\n",
        "            '''\n",
        "        return f'<h1>Hello, {name}!</h1>'\n",
        "\n",
        "    return '''\n",
        "        <form method=\"post\">\n",
        "            <input type=\"text\" name=\"name\" placeholder=\"Enter your name\">\n",
        "            <input type=\"submit\" value=\"Submit\">\n",
        "        </form>\n",
        "    '''\n",
        "\n",
        "if __name__ == '__main__':\n",
        "    app.run(debug=True)"
      ],
      "metadata": {
        "id": "kxwh-uZ4AaY-"
      },
      "execution_count": null,
      "outputs": []
    },
    {
      "cell_type": "code",
      "source": [
        "#8.How do you manage sessions in Flask\n",
        "from flask import session\n",
        "\n",
        "app.secret_key = 'your_secret_key'\n",
        "\n",
        "@app.route('/set/')\n",
        "def set_session():\n",
        "    session['username'] = 'Bob'\n",
        "    return \"Session set\"\n",
        "\n",
        "@app.route('/get/')\n",
        "def get_session():\n",
        "    return session.get('username', 'Not set')"
      ],
      "metadata": {
        "id": "1wW2-boTAaXa"
      },
      "execution_count": null,
      "outputs": []
    },
    {
      "cell_type": "code",
      "source": [
        "#9.How do you redirect to a different route in Flask\n",
        "from flask import Flask, redirect, url_for\n",
        "\n",
        "@app.route('/old')\n",
        "def old():\n",
        "    return redirect(url_for('new'))\n",
        "\n",
        "@app.route('/new')\n",
        "def new():\n",
        "    return \"New Page\""
      ],
      "metadata": {
        "id": "7_18w3b_A5Lu"
      },
      "execution_count": null,
      "outputs": []
    },
    {
      "cell_type": "code",
      "source": [
        "#10.How do you handle errors in Flask (e.g., 404)\n",
        "@app.errorhandler(404)\n",
        "def page_not_found(e):\n",
        "    return render_template('404.html'), 404"
      ],
      "metadata": {
        "id": "2OxwABdyA5H9"
      },
      "execution_count": null,
      "outputs": []
    },
    {
      "cell_type": "code",
      "source": [
        "#11.How do you structure a Flask app using Blueprints\n",
        "  #my_blueprint/routes.py\n",
        "from flask import Blueprint, render_template\n",
        "\n",
        "# Create the Blueprint object\n",
        "my_bp = Blueprint('my_bp', __name__)\n",
        "\n",
        "# Define a route within the blueprint\n",
        "@my_bp.route('/hello')\n",
        "def hello():\n",
        "    return render_template('hello.html', name=\"Bob\")\n",
        "\n",
        "   #in app.py\n",
        "from flask import Flask\n",
        "from my_blueprint import my_bp\n",
        "\n",
        "app = Flask(__name__)\n",
        "\n",
        "# Register the blueprint\n",
        "app.register_blueprint(my_bp, url_prefix='/bp')\n",
        "\n",
        "if __name__ == '__main__':\n",
        "    app.run(debug=True)"
      ],
      "metadata": {
        "id": "b1pMqLndA5GZ"
      },
      "execution_count": null,
      "outputs": []
    },
    {
      "cell_type": "code",
      "source": [
        "#12.How do you define a custom Jinja filter in Flask\n",
        "@app.template_filter('reverse')\n",
        "def reverse_filter(s):\n",
        "    return s[::-1]\n",
        "# In template: {{ \"Flask\" | reverse }} -> \"ksalF\""
      ],
      "metadata": {
        "id": "umc4tpkiA5Eg"
      },
      "execution_count": null,
      "outputs": []
    },
    {
      "cell_type": "code",
      "source": [
        "#13.How can you redirect with query parameters in Flask\n",
        "@app.route('/search')\n",
        "def search():\n",
        "    query = request.args.get('q')\n",
        "    return f\"Search results for: {query}\"\n",
        "\n",
        "@app.route('/go')\n",
        "def go():\n",
        "    return redirect(url_for('search', q='Flask'))\n"
      ],
      "metadata": {
        "id": "udQiu92nA5DE"
      },
      "execution_count": null,
      "outputs": []
    },
    {
      "cell_type": "code",
      "source": [
        "#14.How do you return JSON responses in Flask\n",
        "from flask import jsonify\n",
        "\n",
        "@app.route('/api/data')\n",
        "def get_data():\n",
        "    return jsonify({'name': 'Bob', 'age': 25})"
      ],
      "metadata": {
        "id": "eqaGk9MnA5AV"
      },
      "execution_count": null,
      "outputs": []
    },
    {
      "cell_type": "code",
      "source": [
        "#15.How do you capture URL parameters in Flask?\n",
        "@app.route('/user/<username>')\n",
        "def user_profile(username):\n",
        "    return f\"Hello, {username}\"\n",
        "\n",
        "@app.route('/post/<int:post_id>')\n",
        "def post(post_id):\n",
        "    return f\"Post ID: {post_id}\""
      ],
      "metadata": {
        "id": "uR4ZTRrtA4-1"
      },
      "execution_count": null,
      "outputs": []
    },
    {
      "cell_type": "code",
      "source": [],
      "metadata": {
        "id": "ejNLg4wHOjmH"
      },
      "execution_count": null,
      "outputs": []
    }
  ]
}